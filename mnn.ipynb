{
 "cells": [
  {
   "cell_type": "code",
   "execution_count": 22,
   "metadata": {},
   "outputs": [],
   "source": [
    "import warnings\n",
    "import numpy as np\n",
    "warnings.simplefilter(action='ignore', category=FutureWarning)"
   ]
  },
  {
   "cell_type": "code",
   "execution_count": 7,
   "metadata": {},
   "outputs": [],
   "source": [
    "import matplotlib.pyplot as plt\n",
    "from sklearn.preprocessing import LabelBinarizer\n",
    "from sklearn.model_selection import train_test_split\n",
    "from sklearn.metrics import classification_report\n",
    "from keras.models import Sequential\n",
    "from keras.layers import Dropout\n",
    "from keras.layers.core import Dense\n",
    "from keras.optimizers import SGD\n",
    "from keras import initializers\n",
    "from keras import regularizers\n",
    "from my_utils import utils_paths\n",
    "import matplotlib.pyplot as plt\n",
    "import numpy as np\n",
    "import argparse\n",
    "import random\n",
    "import pickle\n",
    "import cv2\n",
    "import os"
   ]
  },
  {
   "cell_type": "markdown",
   "metadata": {},
   "source": [
    "# load the data \n",
    "\n",
    "x and y"
   ]
  },
  {
   "cell_type": "code",
   "execution_count": null,
   "metadata": {},
   "outputs": [],
   "source": [
    "import pandas as pd \n",
    "df = pd.DataFrame()"
   ]
  },
  {
   "cell_type": "code",
   "execution_count": 12,
   "metadata": {},
   "outputs": [],
   "source": [
    "data = []\n",
    "labels = []"
   ]
  },
  {
   "cell_type": "code",
   "execution_count": 11,
   "metadata": {},
   "outputs": [
    {
     "data": {
      "text/plain": [
       "3000"
      ]
     },
     "execution_count": 11,
     "metadata": {},
     "output_type": "execute_result"
    }
   ],
   "source": [
    "imagePaths = sorted(list(utils_paths.list_images('./dataset')))\n",
    "len(imagePaths)"
   ]
  },
  {
   "cell_type": "code",
   "execution_count": 9,
   "metadata": {},
   "outputs": [],
   "source": [
    "random.seed(42)# 保证随机种子是一样的"
   ]
  },
  {
   "cell_type": "code",
   "execution_count": 10,
   "metadata": {},
   "outputs": [],
   "source": [
    "random.shuffle(imagePaths)"
   ]
  },
  {
   "cell_type": "code",
   "execution_count": 13,
   "metadata": {},
   "outputs": [],
   "source": [
    "for imagePath in imagePaths:\n",
    "    image = cv2.imread(imagePath)\n",
    "    image = cv2.resize(image, (32, 32)).flatten()#  拉长 \n",
    "    data.append(image)\n",
    "    \n",
    "    label = imagePath.split(os.path.sep)[-2]\n",
    "    labels.append(label)"
   ]
  },
  {
   "cell_type": "code",
   "execution_count": 17,
   "metadata": {},
   "outputs": [],
   "source": [
    "data = np.array(data, dtype='float') / 225.0\n",
    "labels = np.array(labels)"
   ]
  },
  {
   "cell_type": "code",
   "execution_count": 23,
   "metadata": {},
   "outputs": [],
   "source": [
    "(trainX, testX, trainY, testY) = train_test_split(data, labels, test_size=0.25, random_state=42)"
   ]
  },
  {
   "cell_type": "code",
   "execution_count": 24,
   "metadata": {},
   "outputs": [],
   "source": [
    "# one hot decoding \n",
    "lb = LabelBinarizer()\n",
    "trainY = lb.fit_transform(trainY)\n",
    "testY = lb.transform(testY)"
   ]
  },
  {
   "cell_type": "code",
   "execution_count": 25,
   "metadata": {},
   "outputs": [
    {
     "data": {
      "text/plain": [
       "array([[0, 0, 1],\n",
       "       [1, 0, 0],\n",
       "       [0, 1, 0],\n",
       "       ...,\n",
       "       [0, 1, 0],\n",
       "       [0, 1, 0],\n",
       "       [1, 0, 0]])"
      ]
     },
     "execution_count": 25,
     "metadata": {},
     "output_type": "execute_result"
    }
   ],
   "source": [
    "trainY"
   ]
  },
  {
   "cell_type": "code",
   "execution_count": 26,
   "metadata": {},
   "outputs": [],
   "source": [
    "model = Sequential()"
   ]
  },
  {
   "cell_type": "code",
   "execution_count": 27,
   "metadata": {},
   "outputs": [],
   "source": [
    "model.add(Dense(512, input_shape=(3072,), activation='relu'))\n",
    "model.add(Dense(256, activation='relu',))\n",
    "model.add(Dense(len(lb.classes_), activation='softmax',))"
   ]
  },
  {
   "cell_type": "code",
   "execution_count": 28,
   "metadata": {},
   "outputs": [],
   "source": [
    "INIT_LR = 0.01\n",
    "EPOCHS = 200"
   ]
  },
  {
   "cell_type": "code",
   "execution_count": 29,
   "metadata": {},
   "outputs": [],
   "source": [
    "opt = SGD(lr=INIT_LR)\n",
    "model.compile(loss='categorical_crossentropy', optimizer=opt, metrics=['accuracy'])"
   ]
  },
  {
   "cell_type": "code",
   "execution_count": 30,
   "metadata": {
    "scrolled": true
   },
   "outputs": [
    {
     "name": "stdout",
     "output_type": "stream",
     "text": [
      "Epoch 1/200\n",
      "71/71 [==============================] - 1s 7ms/step - loss: 1.0532 - accuracy: 0.4337 - val_loss: 0.9997 - val_accuracy: 0.5200\n",
      "Epoch 2/200\n",
      "71/71 [==============================] - 0s 7ms/step - loss: 0.8630 - accuracy: 0.5610 - val_loss: 0.9879 - val_accuracy: 0.5053\n",
      "Epoch 3/200\n",
      "71/71 [==============================] - 0s 6ms/step - loss: 0.8218 - accuracy: 0.5736 - val_loss: 0.9596 - val_accuracy: 0.5347\n",
      "Epoch 4/200\n",
      "71/71 [==============================] - 0s 6ms/step - loss: 0.7805 - accuracy: 0.6357 - val_loss: 0.8796 - val_accuracy: 0.5733\n",
      "Epoch 5/200\n",
      "71/71 [==============================] - 0s 6ms/step - loss: 0.7635 - accuracy: 0.6395 - val_loss: 0.8136 - val_accuracy: 0.5920\n",
      "Epoch 6/200\n",
      "71/71 [==============================] - 1s 7ms/step - loss: 0.7347 - accuracy: 0.6496 - val_loss: 1.0750 - val_accuracy: 0.4773\n",
      "Epoch 7/200\n",
      "71/71 [==============================] - 0s 7ms/step - loss: 0.7443 - accuracy: 0.6471 - val_loss: 0.8052 - val_accuracy: 0.5733\n",
      "Epoch 8/200\n",
      "71/71 [==============================] - 1s 10ms/step - loss: 0.6703 - accuracy: 0.7115 - val_loss: 0.8439 - val_accuracy: 0.5787\n",
      "Epoch 9/200\n",
      "71/71 [==============================] - 0s 6ms/step - loss: 0.6748 - accuracy: 0.6799 - val_loss: 0.8748 - val_accuracy: 0.5640\n",
      "Epoch 10/200\n",
      "71/71 [==============================] - 0s 7ms/step - loss: 0.6602 - accuracy: 0.6861 - val_loss: 0.9327 - val_accuracy: 0.5600\n",
      "Epoch 11/200\n",
      "71/71 [==============================] - 0s 6ms/step - loss: 0.6331 - accuracy: 0.7098 - val_loss: 0.8655 - val_accuracy: 0.5787\n",
      "Epoch 12/200\n",
      "71/71 [==============================] - 0s 6ms/step - loss: 0.6168 - accuracy: 0.7291 - val_loss: 0.8791 - val_accuracy: 0.5747\n",
      "Epoch 13/200\n",
      "71/71 [==============================] - 0s 7ms/step - loss: 0.6095 - accuracy: 0.7287 - val_loss: 0.8676 - val_accuracy: 0.5920\n",
      "Epoch 14/200\n",
      "71/71 [==============================] - 0s 6ms/step - loss: 0.6041 - accuracy: 0.7261 - val_loss: 1.1184 - val_accuracy: 0.4907\n",
      "Epoch 15/200\n",
      "71/71 [==============================] - 0s 7ms/step - loss: 0.5983 - accuracy: 0.7529 - val_loss: 0.7821 - val_accuracy: 0.5947\n",
      "Epoch 16/200\n",
      "71/71 [==============================] - 0s 6ms/step - loss: 0.5537 - accuracy: 0.7600 - val_loss: 0.8576 - val_accuracy: 0.5733\n",
      "Epoch 17/200\n",
      "71/71 [==============================] - 0s 7ms/step - loss: 0.5673 - accuracy: 0.7436 - val_loss: 0.9215 - val_accuracy: 0.6013\n",
      "Epoch 18/200\n",
      "71/71 [==============================] - 1s 7ms/step - loss: 0.5546 - accuracy: 0.7546 - val_loss: 0.8527 - val_accuracy: 0.5920\n",
      "Epoch 19/200\n",
      "71/71 [==============================] - 1s 7ms/step - loss: 0.5050 - accuracy: 0.7911 - val_loss: 1.0137 - val_accuracy: 0.5693\n",
      "Epoch 20/200\n",
      "71/71 [==============================] - 1s 7ms/step - loss: 0.5487 - accuracy: 0.7687 - val_loss: 0.7990 - val_accuracy: 0.5973\n",
      "Epoch 21/200\n",
      "71/71 [==============================] - 1s 7ms/step - loss: 0.4792 - accuracy: 0.8004 - val_loss: 0.8051 - val_accuracy: 0.6080\n",
      "Epoch 22/200\n",
      "71/71 [==============================] - 1s 8ms/step - loss: 0.4601 - accuracy: 0.7980 - val_loss: 0.7666 - val_accuracy: 0.6280\n",
      "Epoch 23/200\n",
      "71/71 [==============================] - 1s 8ms/step - loss: 0.4731 - accuracy: 0.8021 - val_loss: 0.7872 - val_accuracy: 0.6093\n",
      "Epoch 24/200\n",
      "71/71 [==============================] - 1s 8ms/step - loss: 0.4582 - accuracy: 0.8113 - val_loss: 1.1081 - val_accuracy: 0.5507\n",
      "Epoch 25/200\n",
      "71/71 [==============================] - 1s 8ms/step - loss: 0.4713 - accuracy: 0.8004 - val_loss: 0.8277 - val_accuracy: 0.6000\n",
      "Epoch 26/200\n",
      "71/71 [==============================] - 1s 7ms/step - loss: 0.4156 - accuracy: 0.8349 - val_loss: 0.7742 - val_accuracy: 0.6213\n",
      "Epoch 27/200\n",
      "71/71 [==============================] - 1s 7ms/step - loss: 0.4395 - accuracy: 0.8120 - val_loss: 0.7849 - val_accuracy: 0.6080\n",
      "Epoch 28/200\n",
      "71/71 [==============================] - 1s 7ms/step - loss: 0.3924 - accuracy: 0.8502 - val_loss: 0.9919 - val_accuracy: 0.5827\n",
      "Epoch 29/200\n",
      "71/71 [==============================] - 1s 7ms/step - loss: 0.4141 - accuracy: 0.8373 - val_loss: 1.2525 - val_accuracy: 0.5427\n",
      "Epoch 30/200\n",
      "71/71 [==============================] - 1s 10ms/step - loss: 0.4175 - accuracy: 0.8456 - val_loss: 1.0204 - val_accuracy: 0.5893\n",
      "Epoch 31/200\n",
      "71/71 [==============================] - 1s 8ms/step - loss: 0.3788 - accuracy: 0.8450 - val_loss: 0.7863 - val_accuracy: 0.6133\n",
      "Epoch 32/200\n",
      "71/71 [==============================] - 1s 7ms/step - loss: 0.3545 - accuracy: 0.8703 - val_loss: 1.1347 - val_accuracy: 0.5693\n",
      "Epoch 33/200\n",
      "71/71 [==============================] - 1s 7ms/step - loss: 0.3809 - accuracy: 0.8525 - val_loss: 0.7752 - val_accuracy: 0.6160\n",
      "Epoch 34/200\n",
      "71/71 [==============================] - 0s 7ms/step - loss: 0.3335 - accuracy: 0.8858 - val_loss: 0.8805 - val_accuracy: 0.6107\n",
      "Epoch 35/200\n",
      "71/71 [==============================] - 1s 7ms/step - loss: 0.3232 - accuracy: 0.8736 - val_loss: 1.3648 - val_accuracy: 0.5253\n",
      "Epoch 36/200\n",
      "71/71 [==============================] - 1s 7ms/step - loss: 0.3929 - accuracy: 0.8418 - val_loss: 1.4292 - val_accuracy: 0.5747\n",
      "Epoch 37/200\n",
      "71/71 [==============================] - 1s 7ms/step - loss: 0.4132 - accuracy: 0.8528 - val_loss: 0.8309 - val_accuracy: 0.6013\n",
      "Epoch 38/200\n",
      "71/71 [==============================] - 1s 7ms/step - loss: 0.3123 - accuracy: 0.8896 - val_loss: 0.9978 - val_accuracy: 0.5773\n",
      "Epoch 39/200\n",
      "71/71 [==============================] - 0s 7ms/step - loss: 0.2902 - accuracy: 0.8908 - val_loss: 0.8902 - val_accuracy: 0.5973\n",
      "Epoch 40/200\n",
      "71/71 [==============================] - 0s 7ms/step - loss: 0.2577 - accuracy: 0.9181 - val_loss: 0.8392 - val_accuracy: 0.6293\n",
      "Epoch 41/200\n",
      "71/71 [==============================] - 0s 7ms/step - loss: 0.2700 - accuracy: 0.9100 - val_loss: 0.8887 - val_accuracy: 0.6320\n",
      "Epoch 42/200\n",
      "71/71 [==============================] - 0s 7ms/step - loss: 0.2582 - accuracy: 0.9140 - val_loss: 0.8986 - val_accuracy: 0.6107\n",
      "Epoch 43/200\n",
      "71/71 [==============================] - 1s 9ms/step - loss: 0.2646 - accuracy: 0.9120 - val_loss: 0.8402 - val_accuracy: 0.6187\n",
      "Epoch 44/200\n",
      "71/71 [==============================] - 1s 7ms/step - loss: 0.2277 - accuracy: 0.9366 - val_loss: 0.9723 - val_accuracy: 0.6013\n",
      "Epoch 45/200\n",
      "71/71 [==============================] - 1s 8ms/step - loss: 0.2219 - accuracy: 0.9375 - val_loss: 1.0616 - val_accuracy: 0.6080\n",
      "Epoch 46/200\n",
      "71/71 [==============================] - 1s 8ms/step - loss: 0.2583 - accuracy: 0.9024 - val_loss: 0.8828 - val_accuracy: 0.6027\n",
      "Epoch 47/200\n",
      "71/71 [==============================] - 0s 7ms/step - loss: 0.2275 - accuracy: 0.9169 - val_loss: 1.1241 - val_accuracy: 0.5920\n",
      "Epoch 48/200\n",
      "71/71 [==============================] - 1s 7ms/step - loss: 0.2418 - accuracy: 0.9081 - val_loss: 0.9390 - val_accuracy: 0.5973\n",
      "Epoch 49/200\n",
      "71/71 [==============================] - 0s 7ms/step - loss: 0.1810 - accuracy: 0.9541 - val_loss: 0.8901 - val_accuracy: 0.6253\n",
      "Epoch 50/200\n",
      "71/71 [==============================] - 0s 7ms/step - loss: 0.2040 - accuracy: 0.9353 - val_loss: 0.9467 - val_accuracy: 0.6200\n",
      "Epoch 51/200\n",
      "71/71 [==============================] - 1s 7ms/step - loss: 0.1836 - accuracy: 0.9508 - val_loss: 0.8981 - val_accuracy: 0.6147\n",
      "Epoch 52/200\n",
      "71/71 [==============================] - 0s 7ms/step - loss: 0.1762 - accuracy: 0.9635 - val_loss: 0.9153 - val_accuracy: 0.6120\n",
      "Epoch 53/200\n",
      "71/71 [==============================] - 1s 7ms/step - loss: 0.1743 - accuracy: 0.9501 - val_loss: 0.9533 - val_accuracy: 0.6080\n",
      "Epoch 54/200\n",
      "71/71 [==============================] - 1s 7ms/step - loss: 0.1847 - accuracy: 0.9402 - val_loss: 0.9967 - val_accuracy: 0.5987\n",
      "Epoch 55/200\n",
      "71/71 [==============================] - 1s 7ms/step - loss: 0.1765 - accuracy: 0.9403 - val_loss: 1.1442 - val_accuracy: 0.5867\n",
      "Epoch 56/200\n",
      "71/71 [==============================] - 0s 7ms/step - loss: 0.1724 - accuracy: 0.9465 - val_loss: 0.9946 - val_accuracy: 0.6027\n",
      "Epoch 57/200\n",
      "71/71 [==============================] - 1s 7ms/step - loss: 0.1460 - accuracy: 0.9619 - val_loss: 1.1071 - val_accuracy: 0.6133\n",
      "Epoch 58/200\n",
      "71/71 [==============================] - 0s 7ms/step - loss: 0.1494 - accuracy: 0.9625 - val_loss: 0.8959 - val_accuracy: 0.6320\n"
     ]
    },
    {
     "name": "stdout",
     "output_type": "stream",
     "text": [
      "Epoch 59/200\n",
      "71/71 [==============================] - 1s 7ms/step - loss: 0.1459 - accuracy: 0.9693 - val_loss: 0.9629 - val_accuracy: 0.6227\n",
      "Epoch 60/200\n",
      "71/71 [==============================] - 1s 7ms/step - loss: 0.1595 - accuracy: 0.9592 - val_loss: 0.9597 - val_accuracy: 0.6227\n",
      "Epoch 61/200\n",
      "71/71 [==============================] - 0s 7ms/step - loss: 0.1200 - accuracy: 0.9700 - val_loss: 1.4539 - val_accuracy: 0.5680\n",
      "Epoch 62/200\n",
      "71/71 [==============================] - 0s 7ms/step - loss: 0.2257 - accuracy: 0.9347 - val_loss: 1.0048 - val_accuracy: 0.6267\n",
      "Epoch 63/200\n",
      "71/71 [==============================] - 0s 7ms/step - loss: 0.1318 - accuracy: 0.9657 - val_loss: 0.9649 - val_accuracy: 0.6253\n",
      "Epoch 64/200\n",
      "71/71 [==============================] - 1s 7ms/step - loss: 0.1430 - accuracy: 0.9685 - val_loss: 0.9882 - val_accuracy: 0.6227\n",
      "Epoch 65/200\n",
      "71/71 [==============================] - 0s 7ms/step - loss: 0.0966 - accuracy: 0.9822 - val_loss: 1.0949 - val_accuracy: 0.6053\n",
      "Epoch 66/200\n",
      "71/71 [==============================] - 1s 7ms/step - loss: 0.1179 - accuracy: 0.9712 - val_loss: 1.0600 - val_accuracy: 0.6027\n",
      "Epoch 67/200\n",
      "71/71 [==============================] - 0s 7ms/step - loss: 0.1105 - accuracy: 0.9742 - val_loss: 1.0526 - val_accuracy: 0.6133\n",
      "Epoch 68/200\n",
      "71/71 [==============================] - 0s 7ms/step - loss: 0.1250 - accuracy: 0.9663 - val_loss: 1.1173 - val_accuracy: 0.5907\n",
      "Epoch 69/200\n",
      "71/71 [==============================] - 0s 7ms/step - loss: 0.2101 - accuracy: 0.9445 - val_loss: 1.2158 - val_accuracy: 0.5960\n",
      "Epoch 70/200\n",
      "71/71 [==============================] - 1s 7ms/step - loss: 0.1286 - accuracy: 0.9696 - val_loss: 1.0120 - val_accuracy: 0.6173\n",
      "Epoch 71/200\n",
      "71/71 [==============================] - 0s 7ms/step - loss: 0.0760 - accuracy: 0.9894 - val_loss: 1.1055 - val_accuracy: 0.6053\n",
      "Epoch 72/200\n",
      "71/71 [==============================] - 1s 7ms/step - loss: 0.0677 - accuracy: 0.9937 - val_loss: 1.0481 - val_accuracy: 0.6107\n",
      "Epoch 73/200\n",
      "71/71 [==============================] - 0s 7ms/step - loss: 0.0952 - accuracy: 0.9724 - val_loss: 1.0408 - val_accuracy: 0.6200\n",
      "Epoch 74/200\n",
      "71/71 [==============================] - 0s 7ms/step - loss: 0.0582 - accuracy: 0.9916 - val_loss: 1.0799 - val_accuracy: 0.6227\n",
      "Epoch 75/200\n",
      "71/71 [==============================] - 1s 7ms/step - loss: 0.0812 - accuracy: 0.9831 - val_loss: 1.0624 - val_accuracy: 0.6240\n",
      "Epoch 76/200\n",
      "71/71 [==============================] - 0s 7ms/step - loss: 0.1169 - accuracy: 0.9791 - val_loss: 0.9155 - val_accuracy: 0.6147\n",
      "Epoch 77/200\n",
      "71/71 [==============================] - 1s 7ms/step - loss: 0.1568 - accuracy: 0.9607 - val_loss: 1.3387 - val_accuracy: 0.6053\n",
      "Epoch 78/200\n",
      "71/71 [==============================] - 1s 7ms/step - loss: 0.1780 - accuracy: 0.9425 - val_loss: 1.2422 - val_accuracy: 0.6080\n",
      "Epoch 79/200\n",
      "71/71 [==============================] - 1s 7ms/step - loss: 0.1020 - accuracy: 0.9736 - val_loss: 1.0613 - val_accuracy: 0.6133\n",
      "Epoch 80/200\n",
      "71/71 [==============================] - 1s 7ms/step - loss: 0.0816 - accuracy: 0.9825 - val_loss: 1.0972 - val_accuracy: 0.6213\n",
      "Epoch 81/200\n",
      "71/71 [==============================] - 1s 9ms/step - loss: 0.0470 - accuracy: 0.9954 - val_loss: 1.1281 - val_accuracy: 0.6173\n",
      "Epoch 82/200\n",
      "71/71 [==============================] - 1s 8ms/step - loss: 0.2064 - accuracy: 0.9507 - val_loss: 1.6392 - val_accuracy: 0.5827\n",
      "Epoch 83/200\n",
      "71/71 [==============================] - 1s 8ms/step - loss: 0.0873 - accuracy: 0.9870 - val_loss: 1.7134 - val_accuracy: 0.5867\n",
      "Epoch 84/200\n",
      "71/71 [==============================] - 1s 7ms/step - loss: 0.1134 - accuracy: 0.9684 - val_loss: 1.0051 - val_accuracy: 0.6240\n",
      "Epoch 85/200\n",
      "71/71 [==============================] - 0s 7ms/step - loss: 0.0542 - accuracy: 0.9964 - val_loss: 1.1041 - val_accuracy: 0.6240\n",
      "Epoch 86/200\n",
      "71/71 [==============================] - 0s 7ms/step - loss: 0.0383 - accuracy: 0.9985 - val_loss: 1.4053 - val_accuracy: 0.6040\n",
      "Epoch 87/200\n",
      "71/71 [==============================] - 1s 8ms/step - loss: 0.0469 - accuracy: 0.9962 - val_loss: 1.1465 - val_accuracy: 0.6253\n",
      "Epoch 88/200\n",
      "71/71 [==============================] - 1s 8ms/step - loss: 0.0372 - accuracy: 0.9966 - val_loss: 2.0285 - val_accuracy: 0.5640\n",
      "Epoch 89/200\n",
      "71/71 [==============================] - 1s 8ms/step - loss: 0.1950 - accuracy: 0.9503 - val_loss: 1.1317 - val_accuracy: 0.6027\n",
      "Epoch 90/200\n",
      "71/71 [==============================] - 1s 8ms/step - loss: 0.0400 - accuracy: 0.9962 - val_loss: 1.1330 - val_accuracy: 0.6173\n",
      "Epoch 91/200\n",
      "71/71 [==============================] - 1s 8ms/step - loss: 0.0332 - accuracy: 0.9990 - val_loss: 1.1285 - val_accuracy: 0.6227\n",
      "Epoch 92/200\n",
      "71/71 [==============================] - 1s 10ms/step - loss: 0.0284 - accuracy: 0.9999 - val_loss: 1.1494 - val_accuracy: 0.6160\n",
      "Epoch 93/200\n",
      "71/71 [==============================] - 1s 9ms/step - loss: 0.2612 - accuracy: 0.9462 - val_loss: 0.9673 - val_accuracy: 0.6320\n",
      "Epoch 94/200\n",
      "71/71 [==============================] - 1s 9ms/step - loss: 0.1091 - accuracy: 0.9779 - val_loss: 1.0465 - val_accuracy: 0.6213\n",
      "Epoch 95/200\n",
      "71/71 [==============================] - 1s 8ms/step - loss: 0.0436 - accuracy: 0.9982 - val_loss: 1.0928 - val_accuracy: 0.6173\n",
      "Epoch 96/200\n",
      "71/71 [==============================] - 1s 8ms/step - loss: 0.0320 - accuracy: 0.9993 - val_loss: 1.1795 - val_accuracy: 0.6160\n",
      "Epoch 97/200\n",
      "71/71 [==============================] - 0s 7ms/step - loss: 0.0309 - accuracy: 0.9996 - val_loss: 1.1606 - val_accuracy: 0.6200\n",
      "Epoch 98/200\n",
      "71/71 [==============================] - 0s 7ms/step - loss: 0.0229 - accuracy: 0.9998 - val_loss: 1.2055 - val_accuracy: 0.6160\n",
      "Epoch 99/200\n",
      "71/71 [==============================] - 1s 7ms/step - loss: 0.0454 - accuracy: 0.9962 - val_loss: 1.2052 - val_accuracy: 0.6227\n",
      "Epoch 100/200\n",
      "71/71 [==============================] - 1s 7ms/step - loss: 0.0206 - accuracy: 0.9999 - val_loss: 1.2209 - val_accuracy: 0.6187\n",
      "Epoch 101/200\n",
      "71/71 [==============================] - 0s 7ms/step - loss: 0.0221 - accuracy: 1.0000 - val_loss: 1.1807 - val_accuracy: 0.6147\n",
      "Epoch 102/200\n",
      "71/71 [==============================] - 1s 8ms/step - loss: 0.0214 - accuracy: 0.9990 - val_loss: 1.2661 - val_accuracy: 0.6240\n",
      "Epoch 103/200\n",
      "71/71 [==============================] - 0s 7ms/step - loss: 0.1855 - accuracy: 0.9674 - val_loss: 1.0030 - val_accuracy: 0.6200\n",
      "Epoch 104/200\n",
      "71/71 [==============================] - 1s 7ms/step - loss: 0.1136 - accuracy: 0.9790 - val_loss: 1.0177 - val_accuracy: 0.6320\n",
      "Epoch 105/200\n",
      "71/71 [==============================] - 0s 7ms/step - loss: 0.0418 - accuracy: 0.9987 - val_loss: 1.0822 - val_accuracy: 0.6440\n",
      "Epoch 106/200\n",
      "71/71 [==============================] - 1s 7ms/step - loss: 0.0291 - accuracy: 1.0000 - val_loss: 1.1904 - val_accuracy: 0.6173\n",
      "Epoch 107/200\n",
      "71/71 [==============================] - 1s 7ms/step - loss: 0.0270 - accuracy: 1.0000 - val_loss: 1.1745 - val_accuracy: 0.6187\n",
      "Epoch 108/200\n",
      "71/71 [==============================] - 0s 7ms/step - loss: 0.0472 - accuracy: 0.9949 - val_loss: 0.9319 - val_accuracy: 0.6213\n",
      "Epoch 109/200\n",
      "71/71 [==============================] - 1s 7ms/step - loss: 0.0787 - accuracy: 0.9977 - val_loss: 1.0822 - val_accuracy: 0.6067\n",
      "Epoch 110/200\n",
      "71/71 [==============================] - 1s 8ms/step - loss: 0.0995 - accuracy: 0.9798 - val_loss: 1.0794 - val_accuracy: 0.6160\n",
      "Epoch 111/200\n",
      "71/71 [==============================] - 0s 7ms/step - loss: 0.0354 - accuracy: 0.9995 - val_loss: 1.1057 - val_accuracy: 0.6173\n",
      "Epoch 112/200\n",
      "71/71 [==============================] - 0s 7ms/step - loss: 0.0271 - accuracy: 0.9996 - val_loss: 1.1394 - val_accuracy: 0.6267\n",
      "Epoch 113/200\n",
      "71/71 [==============================] - 1s 7ms/step - loss: 0.0215 - accuracy: 1.0000 - val_loss: 1.1846 - val_accuracy: 0.6373\n",
      "Epoch 114/200\n",
      "71/71 [==============================] - 1s 10ms/step - loss: 0.0184 - accuracy: 1.0000 - val_loss: 1.2405 - val_accuracy: 0.6107\n",
      "Epoch 115/200\n",
      "71/71 [==============================] - 1s 8ms/step - loss: 0.0195 - accuracy: 0.9999 - val_loss: 1.2122 - val_accuracy: 0.6253\n",
      "Epoch 116/200\n",
      "71/71 [==============================] - 1s 7ms/step - loss: 0.0165 - accuracy: 1.0000 - val_loss: 1.2173 - val_accuracy: 0.6187\n",
      "Epoch 117/200\n",
      "71/71 [==============================] - 0s 7ms/step - loss: 0.0152 - accuracy: 1.0000 - val_loss: 1.2340 - val_accuracy: 0.6107\n",
      "Epoch 118/200\n",
      "71/71 [==============================] - 0s 7ms/step - loss: 0.0169 - accuracy: 1.0000 - val_loss: 1.2258 - val_accuracy: 0.6293\n",
      "Epoch 119/200\n",
      "71/71 [==============================] - 1s 9ms/step - loss: 0.0136 - accuracy: 1.0000 - val_loss: 1.2511 - val_accuracy: 0.6347\n",
      "Epoch 120/200\n",
      "71/71 [==============================] - 1s 8ms/step - loss: 0.0129 - accuracy: 1.0000 - val_loss: 1.2514 - val_accuracy: 0.6280\n",
      "Epoch 121/200\n",
      "71/71 [==============================] - 1s 8ms/step - loss: 0.0127 - accuracy: 1.0000 - val_loss: 1.2863 - val_accuracy: 0.6307\n",
      "Epoch 122/200\n",
      "71/71 [==============================] - 1s 10ms/step - loss: 0.0122 - accuracy: 1.0000 - val_loss: 1.2502 - val_accuracy: 0.6240\n",
      "Epoch 123/200\n",
      "71/71 [==============================] - 1s 9ms/step - loss: 0.0111 - accuracy: 1.0000 - val_loss: 1.2648 - val_accuracy: 0.6267\n",
      "Epoch 124/200\n",
      "71/71 [==============================] - 1s 9ms/step - loss: 0.0575 - accuracy: 0.9931 - val_loss: 0.9238 - val_accuracy: 0.6240\n",
      "Epoch 125/200\n",
      "71/71 [==============================] - 1s 9ms/step - loss: 0.1089 - accuracy: 0.9905 - val_loss: 1.0767 - val_accuracy: 0.6307\n",
      "Epoch 126/200\n",
      "71/71 [==============================] - 1s 8ms/step - loss: 0.0324 - accuracy: 0.9995 - val_loss: 1.1694 - val_accuracy: 0.6213\n",
      "Epoch 127/200\n",
      "71/71 [==============================] - 1s 8ms/step - loss: 0.4223 - accuracy: 0.8912 - val_loss: 1.0731 - val_accuracy: 0.6267\n",
      "Epoch 128/200\n",
      "71/71 [==============================] - 1s 8ms/step - loss: 0.0283 - accuracy: 1.0000 - val_loss: 1.2626 - val_accuracy: 0.6080\n",
      "Epoch 129/200\n",
      "71/71 [==============================] - 1s 9ms/step - loss: 0.0216 - accuracy: 1.0000 - val_loss: 1.1947 - val_accuracy: 0.6280\n",
      "Epoch 130/200\n",
      "71/71 [==============================] - 1s 10ms/step - loss: 0.0165 - accuracy: 1.0000 - val_loss: 1.2385 - val_accuracy: 0.6253\n",
      "Epoch 131/200\n",
      "71/71 [==============================] - 1s 9ms/step - loss: 0.0146 - accuracy: 1.0000 - val_loss: 1.2392 - val_accuracy: 0.6280\n",
      "Epoch 132/200\n",
      "71/71 [==============================] - 1s 7ms/step - loss: 0.0132 - accuracy: 1.0000 - val_loss: 1.2547 - val_accuracy: 0.6267\n",
      "Epoch 133/200\n",
      "71/71 [==============================] - 1s 8ms/step - loss: 0.0118 - accuracy: 1.0000 - val_loss: 1.3055 - val_accuracy: 0.6173\n",
      "Epoch 134/200\n",
      "71/71 [==============================] - 1s 9ms/step - loss: 0.0112 - accuracy: 1.0000 - val_loss: 1.2932 - val_accuracy: 0.6240\n",
      "Epoch 135/200\n",
      "71/71 [==============================] - 1s 9ms/step - loss: 0.0099 - accuracy: 1.0000 - val_loss: 1.2938 - val_accuracy: 0.6280\n",
      "Epoch 136/200\n",
      "71/71 [==============================] - 1s 9ms/step - loss: 0.0096 - accuracy: 1.0000 - val_loss: 1.3115 - val_accuracy: 0.6267\n",
      "Epoch 137/200\n",
      "71/71 [==============================] - 1s 10ms/step - loss: 0.0093 - accuracy: 1.0000 - val_loss: 1.3072 - val_accuracy: 0.6227\n",
      "Epoch 138/200\n",
      "71/71 [==============================] - 1s 9ms/step - loss: 0.0084 - accuracy: 1.0000 - val_loss: 1.3735 - val_accuracy: 0.6133\n",
      "Epoch 139/200\n",
      "71/71 [==============================] - 1s 9ms/step - loss: 0.0085 - accuracy: 1.0000 - val_loss: 1.3241 - val_accuracy: 0.6293\n",
      "Epoch 140/200\n",
      "71/71 [==============================] - 1s 9ms/step - loss: 0.0079 - accuracy: 1.0000 - val_loss: 1.3554 - val_accuracy: 0.6227\n",
      "Epoch 141/200\n",
      "71/71 [==============================] - 1s 9ms/step - loss: 0.0077 - accuracy: 1.0000 - val_loss: 1.3496 - val_accuracy: 0.6267\n",
      "Epoch 142/200\n",
      "71/71 [==============================] - 1s 9ms/step - loss: 0.0079 - accuracy: 1.0000 - val_loss: 1.3477 - val_accuracy: 0.6293\n",
      "Epoch 143/200\n",
      "71/71 [==============================] - 1s 9ms/step - loss: 0.0076 - accuracy: 1.0000 - val_loss: 1.3575 - val_accuracy: 0.6333\n",
      "Epoch 144/200\n",
      "71/71 [==============================] - 1s 8ms/step - loss: 0.0075 - accuracy: 1.0000 - val_loss: 1.3629 - val_accuracy: 0.6253\n",
      "Epoch 145/200\n",
      "71/71 [==============================] - 1s 7ms/step - loss: 0.0068 - accuracy: 1.0000 - val_loss: 1.3622 - val_accuracy: 0.6187\n",
      "Epoch 146/200\n",
      "71/71 [==============================] - 1s 7ms/step - loss: 0.0065 - accuracy: 1.0000 - val_loss: 1.3682 - val_accuracy: 0.6240\n",
      "Epoch 147/200\n",
      "71/71 [==============================] - 1s 8ms/step - loss: 0.0064 - accuracy: 1.0000 - val_loss: 1.3842 - val_accuracy: 0.6293\n",
      "Epoch 148/200\n",
      "71/71 [==============================] - 1s 8ms/step - loss: 0.0067 - accuracy: 1.0000 - val_loss: 1.3858 - val_accuracy: 0.6253\n",
      "Epoch 149/200\n",
      "71/71 [==============================] - 1s 8ms/step - loss: 0.0061 - accuracy: 1.0000 - val_loss: 1.3865 - val_accuracy: 0.6320\n",
      "Epoch 150/200\n",
      "71/71 [==============================] - 1s 9ms/step - loss: 0.0056 - accuracy: 1.0000 - val_loss: 1.4027 - val_accuracy: 0.6227\n",
      "Epoch 151/200\n",
      "71/71 [==============================] - 1s 10ms/step - loss: 0.0057 - accuracy: 1.0000 - val_loss: 1.3980 - val_accuracy: 0.6267\n",
      "Epoch 152/200\n",
      "71/71 [==============================] - 1s 8ms/step - loss: 0.0054 - accuracy: 1.0000 - val_loss: 1.3989 - val_accuracy: 0.6187\n",
      "Epoch 153/200\n",
      "71/71 [==============================] - 1s 8ms/step - loss: 0.0056 - accuracy: 1.0000 - val_loss: 1.4004 - val_accuracy: 0.6280\n",
      "Epoch 154/200\n",
      "71/71 [==============================] - 1s 9ms/step - loss: 0.0058 - accuracy: 1.0000 - val_loss: 1.4157 - val_accuracy: 0.6280\n",
      "Epoch 155/200\n",
      "71/71 [==============================] - 1s 9ms/step - loss: 0.0055 - accuracy: 1.0000 - val_loss: 1.4160 - val_accuracy: 0.6240\n",
      "Epoch 156/200\n",
      "71/71 [==============================] - 0s 7ms/step - loss: 0.0050 - accuracy: 1.0000 - val_loss: 1.4200 - val_accuracy: 0.6200\n",
      "Epoch 157/200\n",
      "71/71 [==============================] - 1s 7ms/step - loss: 0.0050 - accuracy: 1.0000 - val_loss: 1.4249 - val_accuracy: 0.6200\n",
      "Epoch 158/200\n",
      "71/71 [==============================] - 1s 8ms/step - loss: 0.0051 - accuracy: 1.0000 - val_loss: 1.4216 - val_accuracy: 0.6213\n",
      "Epoch 159/200\n",
      "71/71 [==============================] - 1s 7ms/step - loss: 0.0047 - accuracy: 1.0000 - val_loss: 1.4297 - val_accuracy: 0.6253\n",
      "Epoch 160/200\n",
      "71/71 [==============================] - 0s 7ms/step - loss: 0.0047 - accuracy: 1.0000 - val_loss: 1.4383 - val_accuracy: 0.6280\n",
      "Epoch 161/200\n",
      "71/71 [==============================] - 0s 7ms/step - loss: 0.0046 - accuracy: 1.0000 - val_loss: 1.4323 - val_accuracy: 0.6227\n",
      "Epoch 162/200\n",
      "71/71 [==============================] - 1s 7ms/step - loss: 0.0045 - accuracy: 1.0000 - val_loss: 1.4432 - val_accuracy: 0.6200\n",
      "Epoch 163/200\n",
      "71/71 [==============================] - 0s 7ms/step - loss: 0.0046 - accuracy: 1.0000 - val_loss: 1.4468 - val_accuracy: 0.6227\n",
      "Epoch 164/200\n",
      "71/71 [==============================] - 0s 7ms/step - loss: 0.0044 - accuracy: 1.0000 - val_loss: 1.4437 - val_accuracy: 0.6227\n",
      "Epoch 165/200\n",
      "71/71 [==============================] - 0s 7ms/step - loss: 0.0044 - accuracy: 1.0000 - val_loss: 1.4460 - val_accuracy: 0.6240\n",
      "Epoch 166/200\n",
      "71/71 [==============================] - 1s 7ms/step - loss: 0.0041 - accuracy: 1.0000 - val_loss: 1.4893 - val_accuracy: 0.6147\n",
      "Epoch 167/200\n",
      "71/71 [==============================] - 1s 7ms/step - loss: 0.0046 - accuracy: 1.0000 - val_loss: 1.4547 - val_accuracy: 0.6187\n",
      "Epoch 168/200\n",
      "71/71 [==============================] - 1s 7ms/step - loss: 0.0041 - accuracy: 1.0000 - val_loss: 1.4592 - val_accuracy: 0.6213\n",
      "Epoch 169/200\n",
      "71/71 [==============================] - 0s 7ms/step - loss: 0.0040 - accuracy: 1.0000 - val_loss: 1.4679 - val_accuracy: 0.6200\n",
      "Epoch 170/200\n",
      "71/71 [==============================] - 0s 7ms/step - loss: 0.0039 - accuracy: 1.0000 - val_loss: 1.4645 - val_accuracy: 0.6173\n",
      "Epoch 171/200\n",
      "71/71 [==============================] - 1s 7ms/step - loss: 0.0038 - accuracy: 1.0000 - val_loss: 1.4694 - val_accuracy: 0.6200\n",
      "Epoch 172/200\n",
      "71/71 [==============================] - 0s 7ms/step - loss: 0.0039 - accuracy: 1.0000 - val_loss: 1.4741 - val_accuracy: 0.6173\n",
      "Epoch 173/200\n"
     ]
    },
    {
     "name": "stdout",
     "output_type": "stream",
     "text": [
      "71/71 [==============================] - 0s 7ms/step - loss: 0.0035 - accuracy: 1.0000 - val_loss: 1.4729 - val_accuracy: 0.6213\n",
      "Epoch 174/200\n",
      "71/71 [==============================] - 1s 7ms/step - loss: 0.0039 - accuracy: 1.0000 - val_loss: 1.4789 - val_accuracy: 0.6173\n",
      "Epoch 175/200\n",
      "71/71 [==============================] - 1s 7ms/step - loss: 0.0037 - accuracy: 1.0000 - val_loss: 1.4786 - val_accuracy: 0.6160\n",
      "Epoch 176/200\n",
      "71/71 [==============================] - 1s 7ms/step - loss: 0.0035 - accuracy: 1.0000 - val_loss: 1.4868 - val_accuracy: 0.6173\n",
      "Epoch 177/200\n",
      "71/71 [==============================] - 1s 8ms/step - loss: 0.0034 - accuracy: 1.0000 - val_loss: 1.4811 - val_accuracy: 0.6160\n",
      "Epoch 178/200\n",
      "71/71 [==============================] - 1s 8ms/step - loss: 0.0035 - accuracy: 1.0000 - val_loss: 1.4871 - val_accuracy: 0.6187\n",
      "Epoch 179/200\n",
      "71/71 [==============================] - 1s 8ms/step - loss: 0.0034 - accuracy: 1.0000 - val_loss: 1.5097 - val_accuracy: 0.6267\n",
      "Epoch 180/200\n",
      "71/71 [==============================] - 1s 9ms/step - loss: 0.0036 - accuracy: 1.0000 - val_loss: 1.4897 - val_accuracy: 0.6200\n",
      "Epoch 181/200\n",
      "71/71 [==============================] - 1s 7ms/step - loss: 0.0033 - accuracy: 1.0000 - val_loss: 1.4948 - val_accuracy: 0.6187\n",
      "Epoch 182/200\n",
      "71/71 [==============================] - 1s 7ms/step - loss: 0.0032 - accuracy: 1.0000 - val_loss: 1.4964 - val_accuracy: 0.6173\n",
      "Epoch 183/200\n",
      "71/71 [==============================] - 1s 9ms/step - loss: 0.0034 - accuracy: 1.0000 - val_loss: 1.5054 - val_accuracy: 0.6267\n",
      "Epoch 184/200\n",
      "71/71 [==============================] - 1s 8ms/step - loss: 0.0032 - accuracy: 1.0000 - val_loss: 1.5066 - val_accuracy: 0.6227\n",
      "Epoch 185/200\n",
      "71/71 [==============================] - 1s 9ms/step - loss: 0.0032 - accuracy: 1.0000 - val_loss: 1.4994 - val_accuracy: 0.6200\n",
      "Epoch 186/200\n",
      "71/71 [==============================] - 1s 8ms/step - loss: 0.0031 - accuracy: 1.0000 - val_loss: 1.5132 - val_accuracy: 0.6213\n",
      "Epoch 187/200\n",
      "71/71 [==============================] - 1s 9ms/step - loss: 0.0033 - accuracy: 1.0000 - val_loss: 1.5067 - val_accuracy: 0.6227\n",
      "Epoch 188/200\n",
      "71/71 [==============================] - 1s 9ms/step - loss: 0.0030 - accuracy: 1.0000 - val_loss: 1.5094 - val_accuracy: 0.6187\n",
      "Epoch 189/200\n",
      "71/71 [==============================] - 1s 7ms/step - loss: 0.0031 - accuracy: 1.0000 - val_loss: 1.5130 - val_accuracy: 0.6200\n",
      "Epoch 190/200\n",
      "71/71 [==============================] - 1s 8ms/step - loss: 0.0030 - accuracy: 1.0000 - val_loss: 1.5126 - val_accuracy: 0.6213\n",
      "Epoch 191/200\n",
      "71/71 [==============================] - 1s 7ms/step - loss: 0.0028 - accuracy: 1.0000 - val_loss: 1.5126 - val_accuracy: 0.6213\n",
      "Epoch 192/200\n",
      "71/71 [==============================] - 1s 7ms/step - loss: 0.0029 - accuracy: 1.0000 - val_loss: 1.5199 - val_accuracy: 0.6200\n",
      "Epoch 193/200\n",
      "71/71 [==============================] - 1s 7ms/step - loss: 0.0028 - accuracy: 1.0000 - val_loss: 1.5158 - val_accuracy: 0.6173\n",
      "Epoch 194/200\n",
      "71/71 [==============================] - 1s 7ms/step - loss: 0.0027 - accuracy: 1.0000 - val_loss: 1.5236 - val_accuracy: 0.6173\n",
      "Epoch 195/200\n",
      "71/71 [==============================] - 1s 7ms/step - loss: 0.0027 - accuracy: 1.0000 - val_loss: 1.5285 - val_accuracy: 0.6187\n",
      "Epoch 196/200\n",
      "71/71 [==============================] - 1s 8ms/step - loss: 0.0027 - accuracy: 1.0000 - val_loss: 1.5297 - val_accuracy: 0.6253\n",
      "Epoch 197/200\n",
      "71/71 [==============================] - 1s 7ms/step - loss: 0.0025 - accuracy: 1.0000 - val_loss: 1.5306 - val_accuracy: 0.6200\n",
      "Epoch 198/200\n",
      "71/71 [==============================] - 1s 7ms/step - loss: 0.0028 - accuracy: 1.0000 - val_loss: 1.5316 - val_accuracy: 0.6173\n",
      "Epoch 199/200\n",
      "71/71 [==============================] - 1s 7ms/step - loss: 0.0028 - accuracy: 1.0000 - val_loss: 1.5348 - val_accuracy: 0.6187\n",
      "Epoch 200/200\n",
      "71/71 [==============================] - 1s 7ms/step - loss: 0.0025 - accuracy: 1.0000 - val_loss: 1.5343 - val_accuracy: 0.6213\n"
     ]
    }
   ],
   "source": [
    "H = model.fit(trainX, trainY, validation_data=(testX, testY),\n",
    "             epochs=EPOCHS, batch_size=32)"
   ]
  },
  {
   "cell_type": "code",
   "execution_count": 32,
   "metadata": {},
   "outputs": [
    {
     "name": "stdout",
     "output_type": "stream",
     "text": [
      "              precision    recall  f1-score   support\n",
      "\n",
      "        cats       0.58      0.57      0.57       262\n",
      "        dogs       0.50      0.52      0.51       249\n",
      "       panda       0.81      0.78      0.79       239\n",
      "\n",
      "    accuracy                           0.62       750\n",
      "   macro avg       0.63      0.62      0.63       750\n",
      "weighted avg       0.62      0.62      0.62       750\n",
      "\n"
     ]
    }
   ],
   "source": [
    "predictions = model.predict(testX, batch_size=32)\n",
    "print(classification_report(testY.argmax(axis=1), predictions.argmax(axis=1), target_names=lb.classes_))"
   ]
  },
  {
   "cell_type": "code",
   "execution_count": 38,
   "metadata": {},
   "outputs": [
    {
     "data": {
      "image/png": "[encoded data removed]",
      "text/plain": [
       "<Figure size 432x288 with 1 Axes>"
      ]
     },
     "metadata": {},
     "output_type": "display_data"
    }
   ],
   "source": [
    "N = np.arange(0, EPOCHS)\n",
    "plt.style.use(\"ggplot\")\n",
    "plt.figure()\n",
    "plt.plot(N[150:], H.history[\"loss\"][150:], label=\"train_loss\")\n",
    "plt.plot(N[150:], H.history[\"val_loss\"][150:], label=\"val_loss\")\n",
    "plt.plot(N[150:], H.history[\"accuracy\"][150:], label=\"train_acc\")\n",
    "plt.plot(N[150:], H.history[\"val_accuracy\"][150:], label=\"val_acc\")\n",
    "plt.title(\"Training Loss and Accuracy (Simple NN)\")\n",
    "plt.xlabel(\"Epoch #\")\n",
    "plt.ylabel(\"Loss/Accuracy\")\n",
    "plt.legend()\n",
    "plt.show()"
   ]
  },
  {
   "cell_type": "code",
   "execution_count": 39,
   "metadata": {},
   "outputs": [
    {
     "name": "stdout",
     "output_type": "stream",
     "text": [
      "INFO:tensorflow:Assets written to: ./model/assets\n"
     ]
    }
   ],
   "source": [
    "model.save('./model')"
   ]
  },
  {
   "cell_type": "code",
   "execution_count": null,
   "metadata": {},
   "outputs": [],
   "source": []
  }
 ],
 "metadata": {
  "kernelspec": {
   "display_name": "Python 3",
   "language": "python",
   "name": "python3"
  },
  "language_info": {
   "codemirror_mode": {
    "name": "ipython",
    "version": 3
   },
   "file_extension": ".py",
   "mimetype": "text/x-python",
   "name": "python",
   "nbconvert_exporter": "python",
   "pygments_lexer": "ipython3",
   "version": "3.8.2"
  }
 },
 "nbformat": 4,
 "nbformat_minor": 4
}
