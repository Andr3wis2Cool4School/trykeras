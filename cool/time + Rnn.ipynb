{
 "cells": [
  {
   "cell_type": "markdown",
   "metadata": {},
   "source": [
    "Rnn more widely used in text analysis, because the data is sequence data."
   ]
  },
  {
   "cell_type": "markdown",
   "metadata": {},
   "source": [
    "1. 时间序列数据怎么准备\n",
    "2. 网络模型怎么搭建"
   ]
  },
  {
   "cell_type": "code",
   "execution_count": 25,
   "metadata": {},
   "outputs": [],
   "source": [
    "import datetime as dt\n",
    "\n",
    "class Timer():\n",
    "    def __init__(self):\n",
    "        self.start_dt = None\n",
    "    \n",
    "    def start(self):\n",
    "        self.start_dt = dt.datetime.now()\n",
    "    \n",
    "    def stop(self):\n",
    "        end_dt = dt.datetime.now()\n",
    "        print('Time taken: %s' % (end_dt - self.start_dt))"
   ]
  },
  {
   "cell_type": "code",
   "execution_count": 1,
   "metadata": {},
   "outputs": [],
   "source": [
    "# config\n",
    "\n",
    "config = {\n",
    "    'data' : {\n",
    "        'filename' : 'sinewave.csv',\n",
    "        'columns' : [\n",
    "            'sinewave'\n",
    "        ],\n",
    "        'sequence_length': 50,\n",
    "        'train_test_split': 0.8,\n",
    "        'normalise': False\n",
    "    },\n",
    "    'training': {\n",
    "        'epochs' : 2,\n",
    "        'batch_size': 32\n",
    "    },\n",
    "    'model': {\n",
    "        'loss' : 'mse', # 回归\n",
    "        'optimizer': 'adam',\n",
    "        'save_dir': 'model',\n",
    "        'layers': [\n",
    "            {\n",
    "                'type':'lstm',\n",
    "                'neurons': 50,\n",
    "                'input_timesteps':49,\n",
    "                'input_dim':1,\n",
    "                'return_seq':True\n",
    "            },\n",
    "            {\n",
    "                'type': 'dropout',\n",
    "                'rate': 0.05\n",
    "            },\n",
    "            {\n",
    "                'type':'lstm',\n",
    "                'neurons': 100,\n",
    "                'return_seq': False\n",
    "            },\n",
    "            {\n",
    "                'type': 'dropout',\n",
    "                'rate': 0.05\n",
    "            },\n",
    "            {\n",
    "                'type':'dense',\n",
    "                'neurons': 1,\n",
    "                'activation': 'linear'\n",
    "            }\n",
    "        ]\n",
    "    }\n",
    "}"
   ]
  },
  {
   "cell_type": "code",
   "execution_count": 2,
   "metadata": {},
   "outputs": [],
   "source": [
    "import pandas as pd"
   ]
  },
  {
   "cell_type": "code",
   "execution_count": 3,
   "metadata": {},
   "outputs": [],
   "source": [
    "data = pd.read_csv('./data/sinewave.csv')"
   ]
  },
  {
   "cell_type": "code",
   "execution_count": 4,
   "metadata": {},
   "outputs": [
    {
     "data": {
      "text/html": [
       "<div>\n",
       "<style scoped>\n",
       "    .dataframe tbody tr th:only-of-type {\n",
       "        vertical-align: middle;\n",
       "    }\n",
       "\n",
       "    .dataframe tbody tr th {\n",
       "        vertical-align: top;\n",
       "    }\n",
       "\n",
       "    .dataframe thead th {\n",
       "        text-align: right;\n",
       "    }\n",
       "</style>\n",
       "<table border=\"1\" class=\"dataframe\">\n",
       "  <thead>\n",
       "    <tr style=\"text-align: right;\">\n",
       "      <th></th>\n",
       "      <th>sinewave</th>\n",
       "    </tr>\n",
       "  </thead>\n",
       "  <tbody>\n",
       "    <tr>\n",
       "      <th>0</th>\n",
       "      <td>0.841471</td>\n",
       "    </tr>\n",
       "    <tr>\n",
       "      <th>1</th>\n",
       "      <td>0.873736</td>\n",
       "    </tr>\n",
       "    <tr>\n",
       "      <th>2</th>\n",
       "      <td>0.902554</td>\n",
       "    </tr>\n",
       "    <tr>\n",
       "      <th>3</th>\n",
       "      <td>0.927809</td>\n",
       "    </tr>\n",
       "    <tr>\n",
       "      <th>4</th>\n",
       "      <td>0.949402</td>\n",
       "    </tr>\n",
       "    <tr>\n",
       "      <th>...</th>\n",
       "      <td>...</td>\n",
       "    </tr>\n",
       "    <tr>\n",
       "      <th>4996</th>\n",
       "      <td>0.680667</td>\n",
       "    </tr>\n",
       "    <tr>\n",
       "      <th>4997</th>\n",
       "      <td>0.725324</td>\n",
       "    </tr>\n",
       "    <tr>\n",
       "      <th>4998</th>\n",
       "      <td>0.767118</td>\n",
       "    </tr>\n",
       "    <tr>\n",
       "      <th>4999</th>\n",
       "      <td>0.805885</td>\n",
       "    </tr>\n",
       "    <tr>\n",
       "      <th>5000</th>\n",
       "      <td>0.841471</td>\n",
       "    </tr>\n",
       "  </tbody>\n",
       "</table>\n",
       "<p>5001 rows × 1 columns</p>\n",
       "</div>"
      ],
      "text/plain": [
       "      sinewave\n",
       "0     0.841471\n",
       "1     0.873736\n",
       "2     0.902554\n",
       "3     0.927809\n",
       "4     0.949402\n",
       "...        ...\n",
       "4996  0.680667\n",
       "4997  0.725324\n",
       "4998  0.767118\n",
       "4999  0.805885\n",
       "5000  0.841471\n",
       "\n",
       "[5001 rows x 1 columns]"
      ]
     },
     "execution_count": 4,
     "metadata": {},
     "output_type": "execute_result"
    }
   ],
   "source": [
    "data"
   ]
  },
  {
   "cell_type": "markdown",
   "metadata": {},
   "source": [
    "Rnn 输入是什么格式？ \n",
    "\n",
    "- 序列长度一定都要是一样的\n",
    "\n",
    "- 需要统一在一起 按照多退少补的情况\n",
    "\n",
    "设计窗口长度都是50个。\n",
    "\n",
    "所以 timestep = 50"
   ]
  },
  {
   "cell_type": "code",
   "execution_count": 5,
   "metadata": {},
   "outputs": [
    {
     "data": {
      "text/plain": [
       "4000"
      ]
     },
     "execution_count": 5,
     "metadata": {},
     "output_type": "execute_result"
    }
   ],
   "source": [
    "# train, test data\n",
    "splite = config['data']['train_test_split']\n",
    "i_split = int(len(data)*splite)\n",
    "i_split"
   ]
  },
  {
   "cell_type": "code",
   "execution_count": 6,
   "metadata": {},
   "outputs": [
    {
     "name": "stdout",
     "output_type": "stream",
     "text": [
      "4000\n",
      "1001\n"
     ]
    }
   ],
   "source": [
    "data_train =  data.get(config['data']['columns']).values[:i_split]\n",
    "data_test = data.get(config['data']['columns']).values[i_split:]\n",
    "len_train = len(data_train)\n",
    "len_test = len(data_test)\n",
    "print(len_train)\n",
    "print(len_test)"
   ]
  },
  {
   "cell_type": "code",
   "execution_count": 7,
   "metadata": {},
   "outputs": [],
   "source": [
    "import numpy as np\n",
    "import tensorflow as tf\n",
    "from tensorflow import keras\n",
    "from tensorflow.keras.models import Sequential \n",
    "from tensorflow.keras.layers import Dense, Activation, Dropout, LSTM"
   ]
  },
  {
   "cell_type": "code",
   "execution_count": 8,
   "metadata": {},
   "outputs": [],
   "source": [
    "model = Sequential() # add more things later"
   ]
  },
  {
   "cell_type": "code",
   "execution_count": 9,
   "metadata": {},
   "outputs": [
    {
     "name": "stdout",
     "output_type": "stream",
     "text": [
      "Model compiled\n"
     ]
    }
   ],
   "source": [
    "# build the model\n",
    "\n",
    "for layer in config['model']['layers']:\n",
    "    neurons = layer['neurons'] if 'neurons' in layer else None\n",
    "    dropout_rate = layer['rate'] if 'rate' in layer else None\n",
    "    activation = layer['activation'] if 'activation' in layer else None\n",
    "    return_seq = layer['return_seq'] if 'return_seq' in layer else None\n",
    "    input_timesteps = layer['input_timesteps'] if 'input_timesteps' in layer else None\n",
    "    input_dim = layer['input_dim'] if 'input_dim' in layer else None\n",
    "    \n",
    "    if layer['type'] == 'dense':\n",
    "        model.add(Dense(neurons, activation=activation))\n",
    "    if layer['type'] == 'lstm':\n",
    "        model.add(LSTM(neurons, input_shape=(input_timesteps, input_dim), return_sequences=return_seq))\n",
    "    if layer['type'] == 'dropout':\n",
    "        model.add(Dropout(dropout_rate))\n",
    "    \n",
    "# compile the model\n",
    "model.compile(loss=config['model']['loss'], optimizer=config['model']['optimizer'])\n",
    "print('Model compiled')\n"
   ]
  },
  {
   "cell_type": "code",
   "execution_count": 10,
   "metadata": {},
   "outputs": [],
   "source": [
    "def normalise_windows(window_data, single_window=False):\n",
    "    normalised_data = []\n",
    "    window_data = [window_data] if single_window else window_data\n",
    "    for window in window_data:\n",
    "        normalised_window = []\n",
    "        for col_i in range(window.shape[1]):\n",
    "            normalised_col = [((float(p)/float(window[0, col_i])) - 1) for p in window[:, col_i]]\n",
    "            normalised_window.append(normalised_col)\n",
    "        normalised_window = np.array(normalised_window).T\n",
    "        normalised_data.append(normalised_window)\n",
    "    return np.array(normalised_data)"
   ]
  },
  {
   "cell_type": "code",
   "execution_count": 11,
   "metadata": {},
   "outputs": [],
   "source": [
    "def next_window(i, seq_len, normalise):\n",
    "    window = data_train[i:i+seq_len] \n",
    "    '''\n",
    "    ^\n",
    "    |\n",
    "    cut \n",
    "    take i = 0 as an example\n",
    "    data[0: 50] --> 0-49\n",
    "    '''\n",
    "    window = normalise_windows(window, single_window=True)[0] if normalise else window # can be seeing as we didnot do normalize window\n",
    "    x = window[:-1] # forward 49\n",
    "    y = window[-1, [0]] # end 1\n",
    "    return x, y"
   ]
  },
  {
   "cell_type": "code",
   "execution_count": 12,
   "metadata": {},
   "outputs": [],
   "source": [
    "normalise = False\n",
    "data_x = []\n",
    "data_y = []\n",
    "\n",
    "'''\n",
    "len_train = 4000\n",
    "config['data']['sequence_length'] = 50\n",
    "\n",
    "4000 - 50 = 3500\n",
    "\n",
    "'''\n",
    "\n",
    "for i in range(len_train - config['data']['sequence_length']):  \n",
    "    x, y = next_window(i, config['data']['sequence_length'], normalise)\n",
    "    data_x.append(x)\n",
    "    data_y.append(y)\n",
    "\n",
    "    \n",
    "x = np.array(data_x)\n",
    "y = np.array(data_y)"
   ]
  },
  {
   "cell_type": "code",
   "execution_count": 13,
   "metadata": {},
   "outputs": [
    {
     "name": "stdout",
     "output_type": "stream",
     "text": [
      "(3950, 49, 1)\n",
      "(3950, 1)\n"
     ]
    }
   ],
   "source": [
    "print(x.shape)  # 3 - dim 1.data, 2. timestep, 步长 3. vector size, 每一个步长向量的大小\n",
    "print(y.shape)"
   ]
  },
  {
   "cell_type": "code",
   "execution_count": 16,
   "metadata": {},
   "outputs": [
    {
     "name": "stdout",
     "output_type": "stream",
     "text": [
      "2\n",
      "32\n"
     ]
    }
   ],
   "source": [
    "epoches = config['training']['epochs']\n",
    "batch_size = config['training']['batch_size']\n",
    "print(epoches)\n",
    "print(batch_size)"
   ]
  },
  {
   "cell_type": "code",
   "execution_count": 31,
   "metadata": {},
   "outputs": [],
   "source": [
    "def get_test_data(data, seq_len, normalise):\n",
    "    data_windows = []\n",
    "    for i in range(len_test - seq_len):\n",
    "        data_windows.append(data_test[i:i+seq_len])\n",
    "        \n",
    "    data_windows = np.array(data_windows).astype(float)\n",
    "    data_windows = normalise_windows(data_windows, single_window=False) if normalise else data_windows\n",
    "    \n",
    "    x = data_windows[:, :-1]\n",
    "    y = data_windows[:, -1, [0]]\n",
    "    \n",
    "    return x,y"
   ]
  },
  {
   "cell_type": "code",
   "execution_count": 34,
   "metadata": {},
   "outputs": [
    {
     "name": "stdout",
     "output_type": "stream",
     "text": [
      "(951, 49, 1)\n",
      "(951, 1)\n"
     ]
    }
   ],
   "source": [
    "x_test, y_test = get_test_data(\n",
    "    data,\n",
    "    seq_len=config['data']['sequence_length'],\n",
    "    normalise=config['data']['normalise']\n",
    ")\n",
    "print(x_test.shape)\n",
    "print(y_test.shape)"
   ]
  },
  {
   "cell_type": "code",
   "execution_count": 23,
   "metadata": {},
   "outputs": [],
   "source": [
    "from tensorflow.keras.callbacks import EarlyStopping, ModelCheckpoint\n",
    "import time"
   ]
  },
  {
   "cell_type": "code",
   "execution_count": 26,
   "metadata": {},
   "outputs": [
    {
     "name": "stdout",
     "output_type": "stream",
     "text": [
      "Model Training Started\n",
      "Model 2 epochs, 32 batch size\n",
      "Epoch 1/2\n",
      "124/124 [==============================] - 1s 7ms/step - loss: 7.7758e-04\n",
      "WARNING:tensorflow:Early stopping conditioned on metric `val_loss` which is not available. Available metrics are: loss\n",
      "WARNING:tensorflow:Can save best model only with val_loss available, skipping.\n",
      "Epoch 2/2\n",
      "124/124 [==============================] - 1s 7ms/step - loss: 9.1021e-04\n",
      "WARNING:tensorflow:Early stopping conditioned on metric `val_loss` which is not available. Available metrics are: loss\n",
      "WARNING:tensorflow:Can save best model only with val_loss available, skipping.\n",
      "Model Training Completed. Model saved as ./model/model.h5\n",
      "Time taken: 0:00:01.844527\n"
     ]
    }
   ],
   "source": [
    "# Trianing the model\n",
    "timer = Timer()\n",
    "timer.start()\n",
    "print('Model Training Started')\n",
    "print('Model %s epochs, %s batch size' % (epoches, batch_size))\n",
    "\n",
    "'''\n",
    "Only save the best\n",
    "'''\n",
    "\n",
    "callbacks = [\n",
    "    EarlyStopping(monitor = 'val_loss', patience = 2),\n",
    "    ModelCheckpoint(filepath='./model/model.h5', monitor = 'val_loss', save_best_only=True)\n",
    "]\n",
    "\n",
    "model.fit(\n",
    "    x,\n",
    "    y,\n",
    "    epochs = epoches,\n",
    "    batch_size = batch_size,\n",
    "    callbacks = callbacks\n",
    ")\n",
    "\n",
    "model.save('./model/model.h5')\n",
    "print('Model Training Completed. Model saved as %s' % './model/model.h5')\n",
    "timer.stop()\n",
    "\n",
    "predictions = \n",
    "\n"
   ]
  },
  {
   "cell_type": "code",
   "execution_count": null,
   "metadata": {},
   "outputs": [],
   "source": []
  }
 ],
 "metadata": {
  "kernelspec": {
   "display_name": "Python 3",
   "language": "python",
   "name": "python3"
  },
  "language_info": {
   "codemirror_mode": {
    "name": "ipython",
    "version": 3
   },
   "file_extension": ".py",
   "mimetype": "text/x-python",
   "name": "python",
   "nbconvert_exporter": "python",
   "pygments_lexer": "ipython3",
   "version": "3.8.5"
  }
 },
 "nbformat": 4,
 "nbformat_minor": 4
}
